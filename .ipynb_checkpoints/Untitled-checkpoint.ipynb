{
 "cells": [
  {
   "cell_type": "raw",
   "id": "baed22db",
   "metadata": {},
   "source": [
    "---\n",
    "self-contained: True\n",
    "execute: \n",
    "  enabled: true\n",
    "title: Lab 7\n",
    "author: Tuukka Jaakkola\n",
    "date: '11/27/2023'\n",
    "output: html\n",
    "theme: darkly\n",
    "---"
   ]
  },
  {
   "cell_type": "code",
   "execution_count": 255,
   "id": "74d0b894",
   "metadata": {},
   "outputs": [],
   "source": [
    "import pandas as pd\n",
    "import numpy as np\n",
    "\n",
    "from sklearn.pipeline import Pipeline\n",
    "from sklearn.compose import make_column_selector, ColumnTransformer\n",
    "from sklearn.preprocessing import StandardScaler, OneHotEncoder, PolynomialFeatures\n",
    "from sklearn.linear_model import LinearRegression, Ridge, Lasso, ElasticNet \n",
    "from sklearn.model_selection import train_test_split, cross_val_score,GridSearchCV, cross_val_predict\n",
    "from sklearn.metrics import confusion_matrix, roc_curve, roc_auc_score, cohen_kappa_score\n",
    "from sklearn.neighbors import KNeighborsClassifier\n",
    "from sklearn.tree import DecisionTreeClassifier\n",
    "from sklearn.linear_model import LogisticRegression\n",
    "\n",
    "import warnings\n",
    "warnings.filterwarnings(\"ignore\")\n",
    "\n",
    "\n",
    "from plotnine import ggplot, aes, geom_smooth"
   ]
  },
  {
   "cell_type": "code",
   "execution_count": 172,
   "id": "605fee05",
   "metadata": {},
   "outputs": [],
   "source": [
    "ha = pd.read_csv(\"https://www.dropbox.com/s/aohbr6yb9ifmc8w/heart_attack.csv?dl=1\")"
   ]
  },
  {
   "cell_type": "code",
   "execution_count": 229,
   "id": "da27609a",
   "metadata": {},
   "outputs": [],
   "source": [
    "# Changing categorigal variables from numbers to objects so that they can be correctly used.\n",
    "ha['cp'] = ha['cp'].astype(object)\n",
    "ha['restecg'] = ha['restecg'].astype(object)\n",
    "ha['sex'] = ha['sex'].astype(object)"
   ]
  },
  {
   "cell_type": "code",
   "execution_count": 195,
   "id": "03543835",
   "metadata": {},
   "outputs": [],
   "source": [
    "# Get rid of columns with mostly NaN values\n",
    "good_cols = ha.isna().sum() < 100\n",
    "ha = ha.loc[:,good_cols]\n",
    "\n",
    "\n",
    "# Drop other NAs\n",
    "ha = ha.dropna()"
   ]
  },
  {
   "cell_type": "code",
   "execution_count": 196,
   "id": "430aaa29",
   "metadata": {},
   "outputs": [],
   "source": [
    "ct = ColumnTransformer(\n",
    "  [\n",
    "    (\"dummify\", \n",
    "    OneHotEncoder(sparse_output = False, handle_unknown='ignore'),\n",
    "    make_column_selector(dtype_include=object)),\n",
    "    (\"standardize\", \n",
    "    StandardScaler(), \n",
    "    make_column_selector(dtype_include=np.number))\n",
    "  ],\n",
    "  remainder = \"passthrough\"\n",
    ").set_output(transform = \"pandas\")"
   ]
  },
  {
   "cell_type": "markdown",
   "id": "7400c32a",
   "metadata": {},
   "source": [
    "## KNN"
   ]
  },
  {
   "cell_type": "code",
   "execution_count": 176,
   "id": "4225c00d",
   "metadata": {},
   "outputs": [
    {
     "name": "stdout",
     "output_type": "stream",
     "text": [
      "0   0.82485\n",
      "Name: 25, dtype: float64\n"
     ]
    }
   ],
   "source": [
    "X = ha.drop(['output'], axis = 1)\n",
    "y = ha['output']\n",
    "\n",
    "pipeline = Pipeline(\n",
    "    [(\"preprocessing\", ct),\n",
    "     (\"KNN\", KNeighborsClassifier())]\n",
    ")\n",
    "\n",
    "degrees = {'KNN__n_neighbors': list(range(1,31))}\n",
    "\n",
    "gscv = GridSearchCV(pipeline, degrees, cv = 5, scoring='roc_auc_ovr')\n",
    "\n",
    "gscv_fitted = gscv.fit(X, y)\n",
    "\n",
    "scores = gscv_fitted.cv_results_['mean_test_score']\n",
    "\n",
    "reshape_scores = scores.reshape(-1,30)\n",
    "\n",
    "df = pd.DataFrame(reshape_scores)\n",
    "\n",
    "print(df[df.max().idxmax()])"
   ]
  },
  {
   "cell_type": "code",
   "execution_count": 177,
   "id": "1dd37503",
   "metadata": {},
   "outputs": [
    {
     "name": "stdout",
     "output_type": "stream",
     "text": [
      "0   0.83116\n",
      "Name: 19, dtype: float64\n"
     ]
    }
   ],
   "source": [
    "X = ha.drop(['output', 'trtbps'], axis = 1)\n",
    "y = ha['output']\n",
    "\n",
    "pipeline = Pipeline(\n",
    "    [(\"preprocessing\", ct),\n",
    "     (\"KNN\", KNeighborsClassifier())]\n",
    ")\n",
    "\n",
    "degrees = {'KNN__n_neighbors': list(range(1,31))}\n",
    "\n",
    "gscv = GridSearchCV(pipeline, degrees, cv = 5, scoring='roc_auc_ovr')\n",
    "\n",
    "gscv_fitted = gscv.fit(X, y)\n",
    "\n",
    "scores = gscv_fitted.cv_results_['mean_test_score']\n",
    "\n",
    "reshape_scores = scores.reshape(-1,30)\n",
    "\n",
    "df = pd.DataFrame(reshape_scores)\n",
    "\n",
    "print(df[df.max().idxmax()])"
   ]
  },
  {
   "cell_type": "code",
   "execution_count": 178,
   "id": "744223c1",
   "metadata": {},
   "outputs": [
    {
     "name": "stdout",
     "output_type": "stream",
     "text": [
      "0   0.84975\n",
      "Name: 7, dtype: float64\n"
     ]
    }
   ],
   "source": [
    "X = ha.drop(['output', 'chol', 'trtbps','restecg'], axis = 1)\n",
    "y = ha['output']\n",
    "\n",
    "pipeline = Pipeline(\n",
    "    [(\"preprocessing\", ct),\n",
    "     (\"KNN\", KNeighborsClassifier())]\n",
    ")\n",
    "\n",
    "degrees = {'KNN__n_neighbors': list(range(1,31))}\n",
    "\n",
    "gscv = GridSearchCV(pipeline, degrees, cv = 5, scoring='roc_auc_ovr')\n",
    "\n",
    "gscv_fitted = gscv.fit(X, y)\n",
    "\n",
    "scores = gscv_fitted.cv_results_['mean_test_score']\n",
    "\n",
    "reshape_scores = scores.reshape(-1,30)\n",
    "\n",
    "df = pd.DataFrame(reshape_scores)\n",
    "\n",
    "print(df[df.max().idxmax()])\n",
    "\n"
   ]
  },
  {
   "cell_type": "markdown",
   "id": "2cd9470e",
   "metadata": {},
   "source": [
    "With testing it seems that for the KNN model, the best option is to leave out blood pressure, cholesterol, and electrocardiographic results, howwever, tis is only based on roc_auc scores and it should be noted that it is using 25 neighbors which to me brings a slight concern of underfitting as the sample size is only about 270.\n",
    "\n",
    "(Some other models were run with age and sex etc., however, the ones reported were the ones that showed improvement.)"
   ]
  },
  {
   "cell_type": "markdown",
   "id": "b2ebd886",
   "metadata": {},
   "source": [
    "## Logistic Regression"
   ]
  },
  {
   "cell_type": "code",
   "execution_count": 179,
   "id": "96baa406",
   "metadata": {},
   "outputs": [
    {
     "name": "stdout",
     "output_type": "stream",
     "text": [
      "8\n",
      "3\n",
      "0.8678606542882406\n"
     ]
    }
   ],
   "source": [
    "X = ha.drop(['output'], axis = 1)\n",
    "y = ha['output']\n",
    "\n",
    "pipeline = Pipeline(\n",
    "    [(\"preprocessing\", ct),\n",
    "     (\"LR\", LogisticRegression(solver = 'saga', penalty = 'elasticnet', l1_ratio = 0.5, C = 10))]\n",
    ")\n",
    "\n",
    "degrees = {'LR__l1_ratio': list(np.arange(0.1,1, 0.1)), 'LR__C': [0.001, 0.01, 0.1, 1 ,10, 100]}\n",
    "\n",
    "gscv = GridSearchCV(pipeline, degrees, cv = 5, scoring='roc_auc_ovr')\n",
    "\n",
    "gscv_fitted = gscv.fit(X, y)\n",
    "\n",
    "scores = gscv_fitted.cv_results_['mean_test_score']\n",
    "\n",
    "reshape_scores = scores.reshape(-1,9)\n",
    "\n",
    "df = pd.DataFrame(reshape_scores)\n",
    "\n",
    "print(df.max().idxmax())\n",
    "print(df[df.max().idxmax()].idxmax())\n",
    "\n",
    "print(df.iloc[df[df.max().idxmax()].idxmax(), df.max().idxmax()])"
   ]
  },
  {
   "cell_type": "code",
   "execution_count": 180,
   "id": "8e4c4793",
   "metadata": {},
   "outputs": [
    {
     "name": "stdout",
     "output_type": "stream",
     "text": [
      "7\n",
      "3\n",
      "0.8612908930150309\n"
     ]
    }
   ],
   "source": [
    "X = ha.drop(['output', 'trtbps'], axis = 1)\n",
    "y = ha['output']\n",
    "\n",
    "pipeline = Pipeline(\n",
    "    [(\"preprocessing\", ct),\n",
    "     (\"LR\", LogisticRegression(solver = 'saga', penalty = 'elasticnet', l1_ratio = 0.5, C = 10))]\n",
    ")\n",
    "\n",
    "degrees = {'LR__l1_ratio': list(np.arange(0.1,1, 0.1)), 'LR__C': [0.001, 0.01, 0.1, 1 ,10, 100]}\n",
    "\n",
    "gscv = GridSearchCV(pipeline, degrees, cv = 5, scoring='roc_auc_ovr')\n",
    "\n",
    "gscv_fitted = gscv.fit(X, y)\n",
    "\n",
    "scores = gscv_fitted.cv_results_['mean_test_score']\n",
    "\n",
    "reshape_scores = scores.reshape(-1,9)\n",
    "\n",
    "df = pd.DataFrame(reshape_scores)\n",
    "\n",
    "print(df.max().idxmax())\n",
    "print(df[df.max().idxmax()].idxmax())\n",
    "\n",
    "print(df.iloc[df[df.max().idxmax()].idxmax(), df.max().idxmax()])"
   ]
  },
  {
   "cell_type": "code",
   "execution_count": 181,
   "id": "8682f550",
   "metadata": {},
   "outputs": [
    {
     "name": "stdout",
     "output_type": "stream",
     "text": [
      "5\n",
      "4\n",
      "0.8615879752431475\n"
     ]
    }
   ],
   "source": [
    "X = ha.drop(['output', 'chol', 'trtbps','restecg'], axis = 1)\n",
    "y = ha['output']\n",
    "\n",
    "pipeline = Pipeline(\n",
    "    [(\"preprocessing\", ct),\n",
    "     (\"LR\", LogisticRegression(solver = 'saga', penalty = 'elasticnet', l1_ratio = 0.5, C = 10))]\n",
    ")\n",
    "\n",
    "degrees = {'LR__l1_ratio': list(np.arange(0.1,1, 0.1)), 'LR__C': [0.001, 0.01, 0.1, 1 ,10, 100]}\n",
    "\n",
    "gscv = GridSearchCV(pipeline, degrees, cv = 5, scoring='roc_auc_ovr')\n",
    "\n",
    "gscv_fitted = gscv.fit(X, y)\n",
    "\n",
    "scores = gscv_fitted.cv_results_['mean_test_score']\n",
    "\n",
    "reshape_scores = scores.reshape(-1,9)\n",
    "\n",
    "df = pd.DataFrame(reshape_scores)\n",
    "\n",
    "print(df.max().idxmax())\n",
    "print(df[df.max().idxmax()].idxmax())\n",
    "\n",
    "print(df.iloc[df[df.max().idxmax()].idxmax(), df.max().idxmax()])"
   ]
  },
  {
   "cell_type": "code",
   "execution_count": 182,
   "id": "2182cc05",
   "metadata": {},
   "outputs": [
    {
     "name": "stdout",
     "output_type": "stream",
     "text": [
      "7\n",
      "3\n",
      "0.8745832007073387\n"
     ]
    }
   ],
   "source": [
    "X = ha.drop(['output', 'age', 'restecg'], axis = 1)\n",
    "y = ha['output']\n",
    "\n",
    "pipeline = Pipeline(\n",
    "    [(\"preprocessing\", ct),\n",
    "     (\"LR\", LogisticRegression(solver = 'saga', penalty = 'elasticnet', l1_ratio = 0.5, C = 10))]\n",
    ")\n",
    "\n",
    "degrees = {'LR__l1_ratio': list(np.arange(0.1,1, 0.1)), 'LR__C': [0.001, 0.01, 0.1, 1 ,10, 100]}\n",
    "\n",
    "gscv = GridSearchCV(pipeline, degrees, cv = 5, scoring='roc_auc_ovr')\n",
    "\n",
    "gscv_fitted = gscv.fit(X, y)\n",
    "\n",
    "scores = gscv_fitted.cv_results_['mean_test_score']\n",
    "\n",
    "reshape_scores = scores.reshape(-1,9)\n",
    "\n",
    "df = pd.DataFrame(reshape_scores)\n",
    "\n",
    "print(df.max().idxmax())\n",
    "print(df[df.max().idxmax()].idxmax())\n",
    "\n",
    "print(df.iloc[df[df.max().idxmax()].idxmax(), df.max().idxmax()])"
   ]
  },
  {
   "cell_type": "markdown",
   "id": "d755da62",
   "metadata": {},
   "source": [
    "This time, age and electrocardiographic results were omitted for the best model that has an l1_ratio of 0.8 and alpha of 1. this is also higher than the KNN model."
   ]
  },
  {
   "cell_type": "markdown",
   "id": "0b1a6761",
   "metadata": {},
   "source": [
    "## DecisionTree"
   ]
  },
  {
   "cell_type": "code",
   "execution_count": 183,
   "id": "4418d767",
   "metadata": {},
   "outputs": [
    {
     "name": "stdout",
     "output_type": "stream",
     "text": [
      "0   0.77206\n",
      "Name: 2, dtype: float64\n"
     ]
    }
   ],
   "source": [
    "X = ha.drop(['output'], axis = 1)\n",
    "y = ha['output']\n",
    "\n",
    "pipeline = Pipeline(\n",
    "    [(\"preprocessing\", ct),\n",
    "     (\"DT\", DecisionTreeClassifier(max_depth = 10))]\n",
    ")\n",
    "\n",
    "degrees = {'DT__max_depth': list(range(0, 20))}\n",
    "\n",
    "gscv = GridSearchCV(pipeline, degrees, cv = 5, scoring='roc_auc_ovr')\n",
    "\n",
    "gscv_fitted = gscv.fit(X, y)\n",
    "\n",
    "scores = gscv_fitted.cv_results_['mean_test_score']\n",
    "\n",
    "reshape_scores = scores.reshape(-1,20)\n",
    "\n",
    "df = pd.DataFrame(reshape_scores)\n",
    "\n",
    "print(df[df.max().idxmax()])"
   ]
  },
  {
   "cell_type": "code",
   "execution_count": 197,
   "id": "01eb8920",
   "metadata": {},
   "outputs": [
    {
     "name": "stdout",
     "output_type": "stream",
     "text": [
      "0   0.78442\n",
      "Name: 2, dtype: float64\n"
     ]
    }
   ],
   "source": [
    "X = ha.drop(['output', 'sex'], axis = 1)\n",
    "y = ha['output']\n",
    "\n",
    "pipeline = Pipeline(\n",
    "    [(\"preprocessing\", ct),\n",
    "     (\"DT\", DecisionTreeClassifier(max_depth = 10))]\n",
    ")\n",
    "\n",
    "degrees = {'DT__max_depth': list(range(0, 20))}\n",
    "\n",
    "gscv = GridSearchCV(pipeline, degrees, cv = 5, scoring='roc_auc_ovr')\n",
    "\n",
    "gscv_fitted = gscv.fit(X, y)\n",
    "\n",
    "scores = gscv_fitted.cv_results_['mean_test_score']\n",
    "\n",
    "reshape_scores = scores.reshape(-1,20)\n",
    "\n",
    "df = pd.DataFrame(reshape_scores)\n",
    "\n",
    "print(df[df.max().idxmax()])"
   ]
  },
  {
   "cell_type": "code",
   "execution_count": 200,
   "id": "8e76014f",
   "metadata": {
    "scrolled": true
   },
   "outputs": [
    {
     "name": "stdout",
     "output_type": "stream",
     "text": [
      "0   0.79876\n",
      "Name: 2, dtype: float64\n"
     ]
    }
   ],
   "source": [
    "X = ha.drop(['output', 'sex','trtbps', 'chol'], axis = 1)\n",
    "y = ha['output']\n",
    "\n",
    "\n",
    "pipeline = Pipeline(\n",
    "    [(\"preprocessing\", ct),\n",
    "     (\"DT\", DecisionTreeClassifier())]\n",
    ")\n",
    "\n",
    "degrees = {'DT__max_depth': list(range(0, 20))}\n",
    "\n",
    "gscv = GridSearchCV(pipeline, degrees, cv = 5, scoring='roc_auc_ovr')\n",
    "\n",
    "gscv_fitted = gscv.fit(X, y)\n",
    "\n",
    "scores = gscv_fitted.cv_results_['mean_test_score']\n",
    "\n",
    "reshape_scores = scores.reshape(-1,20)\n",
    "\n",
    "df = pd.DataFrame(reshape_scores)\n",
    "\n",
    "print(df[df.max().idxmax()])\n",
    "\n",
    "fitted = pipeline.fit(X,y)\n",
    "\n",
    "predict = fitted.predict_proba(X)[:,1]\n",
    "\n",
    "fpr, tpr, thresholds = roc_curve(y, predict, pos_label=1)\n",
    "\n",
    "df2 = pd.DataFrame({\"true\":tpr, \"false\":fpr})"
   ]
  },
  {
   "cell_type": "markdown",
   "id": "239ca00f",
   "metadata": {},
   "source": [
    "For the decisionstree, the best predictor seems to be a model where sex, blood pressure and cholesterol is left out with a 3 branch deep model."
   ]
  },
  {
   "cell_type": "markdown",
   "id": "36de5b62",
   "metadata": {},
   "source": [
    "## Best Model"
   ]
  },
  {
   "cell_type": "code",
   "execution_count": 137,
   "id": "15d4562b",
   "metadata": {
    "scrolled": true
   },
   "outputs": [
    {
     "name": "stdout",
     "output_type": "stream",
     "text": [
      "         no risk  at risk\n",
      "no risk       23        9\n",
      "at risk        9       28\n",
      "                   Name     coef\n",
      "0         dummify__cp_0 -1.59996\n",
      "1         dummify__cp_1  0.81729\n",
      "2         dummify__cp_2  0.09751\n",
      "3         dummify__cp_3  0.00000\n",
      "4      standardize__sex -0.96419\n",
      "5   standardize__trtbps -0.30533\n",
      "6     standardize__chol -0.22589\n",
      "7  standardize__thalach  1.01119\n"
     ]
    }
   ],
   "source": [
    "X = ha.drop(['output', 'age', 'restecg'], axis = 1)\n",
    "y = ha['output']\n",
    "\n",
    "X_train, X_test, y_train, y_test = train_test_split(X,y, random_state = 42, stratify = y)\n",
    "\n",
    "pipeline = Pipeline(\n",
    "    [(\"preprocessing\", ct),\n",
    "     (\"LR\", LogisticRegression(solver = 'saga', penalty = 'elasticnet', l1_ratio = 0.5, C = 1))]\n",
    ")\n",
    "\n",
    "fitted = pipeline.fit(X_train ,y_train)\n",
    "\n",
    "predict = fitted.predict(X_test)\n",
    "\n",
    "classes = ['no risk', 'at risk']\n",
    "\n",
    "cm = confusion_matrix(y_test, predict)\n",
    "\n",
    "# Convert to a DataFrame\n",
    "cm_df = pd.DataFrame(cm, index=classes, columns=classes)\n",
    "\n",
    "# Print the DataFrame\n",
    "print(cm_df)\n",
    "\n",
    "coef = fitted['LR'].coef_\n",
    "\n",
    "coef_name = pipeline['preprocessing'].get_feature_names_out()\n",
    "\n",
    "# From Chat GPT to get rid of scientific notations\n",
    "pd.set_option('display.float_format', lambda x: '%.5f' % x)\n",
    "\n",
    "df_coef = pd.DataFrame({'Name':coef_name, 'coef':coef[0]})\n",
    "print(df_coef)\n",
    "\n",
    "predict = fitted.predict_proba(X_test)[:,1]\n",
    "\n",
    "fpr, tpr, thresholds = roc_curve(y_test, predict, pos_label=1)\n",
    "\n",
    "df1 = pd.DataFrame({\"true\":tpr, \"false\":fpr})"
   ]
  },
  {
   "cell_type": "markdown",
   "id": "8017d05e",
   "metadata": {},
   "source": [
    "Based on the coefficientsit seems that the typical angia and max heart rate are the two most important coefficients to predict heart rate risk."
   ]
  },
  {
   "cell_type": "code",
   "execution_count": 138,
   "id": "327cd295",
   "metadata": {},
   "outputs": [],
   "source": [
    "X = ha.drop(['output', 'chol', 'trtbps','restecg'], axis = 1)\n",
    "y = ha['output']\n",
    "\n",
    "X_train, X_test, y_train, y_test = train_test_split(X,y, random_state = 42, stratify = y)\n",
    "\n",
    "pipeline = Pipeline(\n",
    "    [(\"preprocessing\", ct),\n",
    "     (\"KNN\", KNeighborsClassifier(n_neighbors = 25))]\n",
    ")\n",
    "\n",
    "fitted = pipeline.fit(X_train ,y_train)\n",
    "\n",
    "predict = fitted.predict_proba(X_test)[:,1]\n",
    "\n",
    "fpr, tpr, thresholds = roc_curve(y_test, predict, pos_label=1)\n",
    "\n",
    "df2 = pd.DataFrame({\"true\":tpr, \"false\":fpr})"
   ]
  },
  {
   "cell_type": "code",
   "execution_count": 139,
   "id": "31698efd",
   "metadata": {},
   "outputs": [],
   "source": [
    "X = ha.drop(['output', 'sex','trtbps', 'chol'], axis = 1)\n",
    "y = ha['output']\n",
    "\n",
    "X_train, X_test, y_train, y_test = train_test_split(X,y, random_state = 42, stratify = y)\n",
    "\n",
    "pipeline = Pipeline(\n",
    "    [(\"preprocessing\", ct),\n",
    "     (\"DT\", DecisionTreeClassifier(max_depth = 3))]\n",
    ")\n",
    "\n",
    "fitted = pipeline.fit(X_train ,y_train)\n",
    "\n",
    "predict = fitted.predict_proba(X_test)[:,1]\n",
    "\n",
    "fpr, tpr, thresholds = roc_curve(y_test, predict, pos_label=1)\n",
    "\n",
    "df3 = pd.DataFrame({\"true\":tpr, \"false\":fpr})"
   ]
  },
  {
   "cell_type": "code",
   "execution_count": 140,
   "id": "56836329",
   "metadata": {},
   "outputs": [
    {
     "data": {
      "image/png": "[encoded data removed]",
      "text/plain": [
       "<Figure size 640x480 with 1 Axes>"
      ]
     },
     "metadata": {
      "image/png": {
       "height": 480,
       "width": 640
      }
     },
     "output_type": "display_data"
    },
    {
     "data": {
      "text/plain": [
       "<Figure Size: (640 x 480)>"
      ]
     },
     "execution_count": 140,
     "metadata": {},
     "output_type": "execute_result"
    }
   ],
   "source": [
    "\n",
    "(ggplot()\n",
    "    + geom_smooth(aes( x = 'false', y='true'),data = df1, color = 'blue')\n",
    "    + geom_smooth(aes( x = 'false', y='true'),data = df2, color = 'red')\n",
    "    + geom_smooth(aes( x = 'false', y='true'),data = df3, color = 'green')\n",
    ")"
   ]
  },
  {
   "cell_type": "markdown",
   "id": "0ae3b2bb",
   "metadata": {},
   "source": [
    "To reduce mistakes and since I didn't build my models to have unique names, I'm running the models again below."
   ]
  },
  {
   "cell_type": "markdown",
   "id": "9b77bce9",
   "metadata": {},
   "source": [
    "# Part 2"
   ]
  },
  {
   "cell_type": "code",
   "execution_count": 274,
   "id": "e5c8c052",
   "metadata": {},
   "outputs": [
    {
     "name": "stdout",
     "output_type": "stream",
     "text": [
      "Recall: 0.774390243902439\n",
      "Precision: 0.778021939549539\n",
      "Specificity: 0.8\n"
     ]
    }
   ],
   "source": [
    "X = ha.drop(['output', 'chol', 'trtbps','restecg'], axis = 1)\n",
    "y = ha['output']\n",
    "\n",
    "X_train, X_test, y_train, y_test = train_test_split(X,y, random_state = 42, stratify = y)\n",
    "\n",
    "pipeline = Pipeline(\n",
    "    [(\"preprocessing\", ct),\n",
    "     (\"KNN\", KNeighborsClassifier(n_neighbors = 25))]\n",
    ")\n",
    "\n",
    "recall = cross_val_score(pipeline, X_train, y_train, cv=5, scoring='recall_weighted')\n",
    "\n",
    "print(f\"Recall: {recall.mean()}\")\n",
    "\n",
    "precision = cross_val_score(pipeline, X_train, y_train, cv=5, scoring='precision_weighted')\n",
    "\n",
    "print(f\"Precision: {precision.mean()}\")\n",
    "\n",
    "y_pred = cross_val_predict(pipeline, X_train, y_train, cv=5)\n",
    "\n",
    "tn, fp, fn, tp = confusion_matrix(y_train, y_pred).ravel()\n",
    "\n",
    "specificity = tn / (tn + fp)\n",
    "\n",
    "print(f\"Specificity: {specificity}\")"
   ]
  },
  {
   "cell_type": "code",
   "execution_count": 272,
   "id": "a096a0b7",
   "metadata": {},
   "outputs": [
    {
     "name": "stdout",
     "output_type": "stream",
     "text": [
      "Recall: 0.7798780487804878\n",
      "Precision: 0.7866971625371015\n",
      "Specificity: 0.7263157894736842\n"
     ]
    }
   ],
   "source": [
    "X = ha.drop(['output', 'age', 'restecg'], axis = 1)\n",
    "y = ha['output']\n",
    "\n",
    "X_train, X_test, y_train, y_test = train_test_split(X,y, random_state = 42, stratify = y)\n",
    "\n",
    "pipeline = Pipeline(\n",
    "    [(\"preprocessing\", ct),\n",
    "     (\"LR\", LogisticRegression(solver = 'saga', penalty = 'elasticnet', l1_ratio = 0.5, C = 1))]\n",
    ")\n",
    "\n",
    "recall = cross_val_score(pipeline, X_train, y_train, cv=5, scoring='recall_weighted')\n",
    "\n",
    "print(f\"Recall: {recall.mean()}\")\n",
    "\n",
    "precision = cross_val_score(pipeline, X_train, y_train, cv=5, scoring='precision_weighted')\n",
    "\n",
    "print(f\"Precision: {precision.mean()}\")\n",
    "\n",
    "y_pred = cross_val_predict(pipeline, X_train, y_train, cv=5)\n",
    "\n",
    "tn, fp, fn, tp = confusion_matrix(y_train, y_pred).ravel()\n",
    "\n",
    "specificity = tn / (tn + fp)\n",
    "\n",
    "print(f\"Specificity: {specificity}\")"
   ]
  },
  {
   "cell_type": "code",
   "execution_count": 273,
   "id": "8813a460",
   "metadata": {
    "scrolled": true
   },
   "outputs": [
    {
     "name": "stdout",
     "output_type": "stream",
     "text": [
      "Recall: 0.7496341463414634\n",
      "Precision: 0.7513934629091201\n",
      "Specificity: 0.7368421052631579\n"
     ]
    }
   ],
   "source": [
    "X = ha.drop(['output', 'sex','trtbps', 'chol'], axis = 1)\n",
    "y = ha['output']\n",
    "\n",
    "X_train, X_test, y_train, y_test = train_test_split(X,y, random_state = 42, stratify = y)\n",
    "\n",
    "pipeline = Pipeline(\n",
    "    [(\"preprocessing\", ct),\n",
    "     (\"DT\", DecisionTreeClassifier(max_depth = 3))]\n",
    ")\n",
    "\n",
    "recall = cross_val_score(pipeline, X_train, y_train, cv=5, scoring='recall_weighted')\n",
    "\n",
    "print(f\"Recall: {recall.mean()}\")\n",
    "\n",
    "precision = cross_val_score(pipeline, X_train, y_train, cv=5, scoring='precision_weighted')\n",
    "\n",
    "print(f\"Precision: {precision.mean()}\")\n",
    "\n",
    "y_pred = cross_val_predict(pipeline, X_train, y_train, cv=5)\n",
    "\n",
    "tn, fp, fn, tp = confusion_matrix(y_train, y_pred).ravel()\n",
    "\n",
    "specificity = tn / (tn + fp)\n",
    "\n",
    "print(f\"Specificity: {specificity}\")"
   ]
  },
  {
   "cell_type": "markdown",
   "id": "a41a8a09",
   "metadata": {},
   "source": [
    "The values are shown as a decimal/percentage. What we can see is that our \"best\" model based on the roc auc also seems to have the highest proportions in these percentages, which makes sense if it is the best at predicting, it should get the most correct matches."
   ]
  },
  {
   "cell_type": "markdown",
   "id": "83697af5",
   "metadata": {},
   "source": [
    "Q1: for this purpose we would want recall to be as high as possible as this means that we are correctly identifying actual high risk patients. Recommendation is Logistic Regression with a score of 79.5%\n",
    "\n",
    "Q2: For this purpose we want precision as high as possible as we want to make sure that the people who actually need the beds get them which means that we want to be as sure as possible that the the patients are correctly identified. Recommendation is Logistic Regression with a score of 80%\n",
    "\n",
    "Q3: Based on my best model, I would argue that the the most important coefficeints should be considered. This would indicate sex and max heart rate during excericise. Chest pain is ignored as it isn't necessarily a biological feature as it is more so a condition. Use Logistic Regression.\n",
    "\n",
    "Q4: Once again I would argue for logistic regression as it is the model that based on the roc auc score, predicts our data the best. I would choose Logistic Regression. "
   ]
  },
  {
   "cell_type": "code",
   "execution_count": 238,
   "id": "809e259e",
   "metadata": {},
   "outputs": [
    {
     "name": "stdout",
     "output_type": "stream",
     "text": [
      "    age sex cp  trtbps  chol restecg  thalach  output\n",
      "0    41   0  1     130   204       0      172       1\n",
      "1    64   1  3     110   211       0      144       1\n",
      "2    59   1  0     135   234       1      161       1\n",
      "3    42   1  0     140   226       1      178       1\n",
      "4    40   1  3     140   199       1      178       1\n",
      "5    54   1  2     125   273       0      152       1\n",
      "6    52   1  1     134   201       1      158       1\n",
      "7    71   0  2     110   265       0      130       1\n",
      "8    55   0  1     135   250       0      161       1\n",
      "9    58   1  2     105   240       0      154       1\n",
      "10   68   1  2     118   277       1      151       1\n",
      "11   46   1  1     101   197       1      156       1\n",
      "12   48   1  2     124   255       1      175       1\n",
      "13   53   1  2     130   246       0      173       1\n",
      "14   69   1  3     160   234       0      131       1\n",
      "15   50   0  1     120   244       1      162       1\n",
      "16   50   0  0     110   254       0      159       1\n",
      "17   59   1  0     138   271       0      182       1\n",
      "18   47   1  0     112   204       1      143       1\n",
      "19   58   1  1     120   284       0      160       0\n",
      "20   61   0  0     130   330       0      169       0\n",
      "21   62   0  0     160   164       0      145       0\n",
      "22   59   1  0     140   177       1      162       0\n",
      "23   48   1  0     130   256       0      150       0\n",
      "24   55   1  0     140   217       1      111       0\n",
      "25   51   1  0     140   298       1      122       0\n",
      "26   67   1  0     100   299       0      125       0\n",
      "27   45   1  0     142   309       0      147       0\n",
      "28   47   1  0     110   275       0      118       0\n",
      "29   57   1  0     130   131       1      115       0\n"
     ]
    }
   ],
   "source": [
    "ha_validation = pd.read_csv(\"https://www.dropbox.com/s/jkwqdiyx6o6oad0/heart_attack_validation.csv?dl=1\")\n",
    "\n",
    "ha_validation['cp'] = ha_validation['cp'].astype(object)\n",
    "ha_validation['restecg'] = ha_validation['restecg'].astype(object)\n",
    "ha_validation['sex'] = ha_validation['sex'].astype(object)\n",
    "\n",
    "# Get rid of columns with mostly NaN values\n",
    "good_cols = ha_validation.isna().sum() < 100\n",
    "ha_validation = ha_validation.loc[:,good_cols]\n",
    "\n",
    "\n",
    "# Drop other NAs\n",
    "ha_validation = ha_validation.dropna()\n"
   ]
  },
  {
   "cell_type": "code",
   "execution_count": 261,
   "id": "1d671ecd",
   "metadata": {
    "scrolled": true
   },
   "outputs": [
    {
     "name": "stdout",
     "output_type": "stream",
     "text": [
      "         no risk  at risk\n",
      "no risk       10        1\n",
      "at risk        7       12\n",
      "Roc Auc: 0.855193614496818\n",
      "Precision: 0.9230769230769231\n",
      "Recall: 0.631578947368421\n"
     ]
    }
   ],
   "source": [
    "X = ha.drop(['output', 'chol', 'trtbps','restecg'], axis = 1)\n",
    "y = ha['output']\n",
    "\n",
    "X2 = ha_validation.drop(['output', 'chol', 'trtbps','restecg'], axis = 1)\n",
    "y2 = ha_validation['output']\n",
    "\n",
    "\n",
    "#X2 = ct.fit_transform(X2)\n",
    "\n",
    "pipeline = Pipeline(\n",
    "    [(\"preprocessing\", ct),\n",
    "     (\"KNN\", KNeighborsClassifier(n_neighbors = 25))]\n",
    ")\n",
    "\n",
    "fitted = pipeline.fit(X ,y)\n",
    "\n",
    "predict = fitted.predict(X2)\n",
    "\n",
    "classes = ['no risk', 'at risk']\n",
    "\n",
    "cm = confusion_matrix(y2, predict)\n",
    "\n",
    "tn, fp, fn, tp = confusion_matrix(y2, predict).ravel()\n",
    "\n",
    "# Convert to a DataFrame\n",
    "cm_df = pd.DataFrame(cm, index=classes, columns=classes)\n",
    "\n",
    "# Print the DataFrame\n",
    "print(cm_df)\n",
    "\n",
    "roc_auc = roc_auc_score(y, pipeline.predict_proba(X)[:, 1])\n",
    "\n",
    "print(f\"Roc Auc: {roc_auc}\")\n",
    "\n",
    "precision = tp / (tp + fp)\n",
    "\n",
    "print(f\"Precision: {precision}\")\n",
    "\n",
    "recall = tp / (tp + fn)\n",
    "\n",
    "print(f\"Recall: {recall}\")\n"
   ]
  },
  {
   "cell_type": "code",
   "execution_count": 262,
   "id": "199bdf22",
   "metadata": {},
   "outputs": [
    {
     "name": "stdout",
     "output_type": "stream",
     "text": [
      "         no risk  at risk\n",
      "no risk        8        3\n",
      "at risk        5       14\n",
      "Roc Auc: 0.8797324991910258\n",
      "Precision: 0.8235294117647058\n",
      "Recall: 0.7368421052631579\n"
     ]
    }
   ],
   "source": [
    "X = ha.drop(['output', 'age', 'restecg'], axis = 1)\n",
    "y = ha['output']\n",
    "\n",
    "X2 = ha_validation.drop(['output', 'age', 'restecg'], axis = 1)\n",
    "y2 = ha_validation['output']\n",
    "\n",
    "pipeline = Pipeline(\n",
    "    [(\"preprocessing\", ct),\n",
    "     (\"LR\", LogisticRegression(solver = 'saga', penalty = 'elasticnet', l1_ratio = 0.5, C = 1))]\n",
    ")\n",
    "\n",
    "fitted = pipeline.fit(X ,y)\n",
    "\n",
    "predict = fitted.predict(X2)\n",
    "\n",
    "classes = ['no risk', 'at risk']\n",
    "\n",
    "cm = confusion_matrix(y2, predict)\n",
    "\n",
    "tn, fp, fn, tp = confusion_matrix(y2, predict).ravel()\n",
    "\n",
    "# Convert to a DataFrame\n",
    "cm_df = pd.DataFrame(cm, index=classes, columns=classes)\n",
    "\n",
    "# Print the DataFrame\n",
    "print(cm_df)\n",
    "\n",
    "roc_auc = roc_auc_score(y, pipeline.predict_proba(X)[:, 1])\n",
    "\n",
    "print(f\"Roc Auc: {roc_auc}\")\n",
    "\n",
    "precision = tp / (tp + fp)\n",
    "\n",
    "print(f\"Precision: {precision}\")\n",
    "\n",
    "recall = tp / (tp + fn)\n",
    "\n",
    "print(f\"Recall: {recall}\")"
   ]
  },
  {
   "cell_type": "code",
   "execution_count": 263,
   "id": "5662ff06",
   "metadata": {},
   "outputs": [
    {
     "name": "stdout",
     "output_type": "stream",
     "text": [
      "         no risk  at risk\n",
      "no risk        9        2\n",
      "at risk        8       11\n",
      "Roc Auc: 0.866492287779096\n",
      "Precision: 0.8461538461538461\n",
      "Recall: 0.5789473684210527\n"
     ]
    }
   ],
   "source": [
    "X = ha.drop(['output', 'age', 'restecg'], axis = 1)\n",
    "y = ha['output']\n",
    "\n",
    "X2 = ha_validation.drop(['output', 'age', 'restecg'], axis = 1)\n",
    "y2 = ha_validation['output']\n",
    "\n",
    "pipeline = Pipeline(\n",
    "    [(\"preprocessing\", ct),\n",
    "     (\"DT\", DecisionTreeClassifier(max_depth = 3))]\n",
    ")\n",
    "\n",
    "fitted = pipeline.fit(X ,y)\n",
    "\n",
    "predict = fitted.predict(X2)\n",
    "\n",
    "classes = ['no risk', 'at risk']\n",
    "\n",
    "cm = confusion_matrix(y2, predict)\n",
    "\n",
    "tn, fp, fn, tp = confusion_matrix(y2, predict).ravel()\n",
    "\n",
    "# Convert to a DataFrame\n",
    "cm_df = pd.DataFrame(cm, index=classes, columns=classes)\n",
    "\n",
    "# Print the DataFrame\n",
    "print(cm_df)\n",
    "\n",
    "roc_auc = roc_auc_score(y, pipeline.predict_proba(X)[:, 1])\n",
    "\n",
    "print(f\"Roc Auc: {roc_auc}\")\n",
    "\n",
    "precision = tp / (tp + fp)\n",
    "\n",
    "print(f\"Precision: {precision}\")\n",
    "\n",
    "recall = tp / (tp + fn)\n",
    "\n",
    "print(f\"Recall: {recall}\")"
   ]
  },
  {
   "cell_type": "markdown",
   "id": "872688e4",
   "metadata": {},
   "source": [
    "Interestingly the model seems to perform really well on all instances, however, when ooking at recall, the values dropped a lot which is interesting as that means that we are actually not predicting the actual positives that well. We are very precise meaning that the predictions that are true positivies are actually true positives at a very high rate, however, we fail to find the true positives from the dataset."
   ]
  },
  {
   "cell_type": "markdown",
   "id": "270b3d0a",
   "metadata": {},
   "source": [
    "# Part 5:\n",
    "\n",
    "As it was not specified if we are supposed to use the validation data or just split for this part, I chose to use the split data, although the methd is esentially the same."
   ]
  },
  {
   "cell_type": "code",
   "execution_count": 269,
   "id": "b431c590",
   "metadata": {},
   "outputs": [
    {
     "name": "stdout",
     "output_type": "stream",
     "text": [
      "Cohen's Kappa: 0.4475347661188369\n"
     ]
    }
   ],
   "source": [
    "X = ha.drop(['output', 'chol', 'trtbps','restecg'], axis = 1)\n",
    "y = ha['output']\n",
    "\n",
    "X_train, X_test, y_train, y_test = train_test_split(X,y, random_state = 42, stratify = y)\n",
    "\n",
    "pipeline = Pipeline(\n",
    "    [(\"preprocessing\", ct),\n",
    "     (\"KNN\", KNeighborsClassifier(n_neighbors = 25))]\n",
    ")\n",
    "\n",
    "pipeline.fit(X_train, y_train)\n",
    "\n",
    "y_pred = pipeline.predict(X_test)\n",
    "\n",
    "kappa = cohen_kappa_score(y_test, y_pred)\n",
    "\n",
    "print(f\"Cohen's Kappa: {kappa}\")"
   ]
  },
  {
   "cell_type": "code",
   "execution_count": 271,
   "id": "d9e2710a",
   "metadata": {},
   "outputs": [
    {
     "name": "stdout",
     "output_type": "stream",
     "text": [
      "Cohen's Kappa: 0.4475347661188369\n"
     ]
    }
   ],
   "source": [
    "X = ha.drop(['output', 'age', 'restecg'], axis = 1)\n",
    "y = ha['output']\n",
    "\n",
    "X_train, X_test, y_train, y_test = train_test_split(X,y, random_state = 42, stratify = y)\n",
    "\n",
    "pipeline = Pipeline(\n",
    "    [(\"preprocessing\", ct),\n",
    "     (\"LR\", LogisticRegression(solver = 'saga', penalty = 'elasticnet', l1_ratio = 0.5, C = 1))]\n",
    ")\n",
    "\n",
    "pipeline.fit(X_train, y_train)\n",
    "\n",
    "y_pred = pipeline.predict(X_test)\n",
    "\n",
    "kappa = cohen_kappa_score(y_test, y_pred)\n",
    "\n",
    "print(f\"Cohen's Kappa: {kappa}\")\n"
   ]
  },
  {
   "cell_type": "code",
   "execution_count": 268,
   "id": "3b9a3552",
   "metadata": {},
   "outputs": [
    {
     "name": "stdout",
     "output_type": "stream",
     "text": [
      "Cohen's Kappa: 0.3696013289036545\n"
     ]
    }
   ],
   "source": [
    "X = ha.drop(['output', 'age', 'restecg'], axis = 1)\n",
    "y = ha['output']\n",
    "\n",
    "X_train, X_test, y_train, y_test = train_test_split(X,y, random_state = 42, stratify = y)\n",
    "\n",
    "pipeline = Pipeline(\n",
    "    [(\"preprocessing\", ct),\n",
    "     (\"DT\", DecisionTreeClassifier(max_depth = 3))]\n",
    ")\n",
    "\n",
    "pipeline.fit(X_train, y_train)\n",
    "\n",
    "y_pred = pipeline.predict(X_test)\n",
    "\n",
    "kappa = cohen_kappa_score(y_test, y_pred)\n",
    "\n",
    "print(f\"Cohen's Kappa: {kappa}\")"
   ]
  },
  {
   "cell_type": "markdown",
   "id": "7900daee",
   "metadata": {},
   "source": [
    "Cohen's Kappa is a measure that indicates the degree of agreement between two datasets while taking into account the possibility that the agreement is caused by random chance. It is interesting that out of my models the KNN model and logistic regression score the exact same amount, however, since other measures also indicate that logistic regression is our best model, I would still choose it. At 0.448, the value falls under \"moderate agreement\" this means that the prediction is moderately accurate to the true data, however, it does leave room for the predictions occuring just by chance and especially in medical applications, a moderate agreement might not be a satisfying result. I think this is a good metric in a situation like this as with only two possible results \"at risk\" or \"no risk\" and especially in a scenario where the data is split evenly, the data could be deceiving. Imagine if the results are roughly 50-50, then a coin flip could provide us with data that \"looks right\" and with some luck it could even be realtively close to the truth."
   ]
  },
  {
   "cell_type": "code",
   "execution_count": null,
   "id": "88d75594",
   "metadata": {},
   "outputs": [],
   "source": []
  }
 ],
 "metadata": {
  "kernelspec": {
   "display_name": "Python 3 (ipykernel)",
   "language": "python",
   "name": "python3"
  },
  "language_info": {
   "codemirror_mode": {
    "name": "ipython",
    "version": 3
   },
   "file_extension": ".py",
   "mimetype": "text/x-python",
   "name": "python",
   "nbconvert_exporter": "python",
   "pygments_lexer": "ipython3",
   "version": "3.11.4"
  }
 },
 "nbformat": 4,
 "nbformat_minor": 5
}
